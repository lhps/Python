{
 "cells": [
  {
   "cell_type": "code",
   "execution_count": 2,
   "metadata": {},
   "outputs": [
    {
     "name": "stdout",
     "output_type": "stream",
     "text": [
      "This is a string\n"
     ]
    }
   ],
   "source": [
    "print('This is a string')"
   ]
  },
  {
   "cell_type": "code",
   "execution_count": 3,
   "metadata": {},
   "outputs": [
    {
     "name": "stdout",
     "output_type": "stream",
     "text": [
      "Temos uma string auxiliar.\n"
     ]
    }
   ],
   "source": [
    "s = 'string'\n",
    "print('Temos uma %s auxiliar.' %(s))"
   ]
  },
  {
   "cell_type": "code",
   "execution_count": 4,
   "metadata": {},
   "outputs": [
    {
     "name": "stdout",
     "output_type": "stream",
     "text": [
      "Temos uma 123 auxiliar.\n"
     ]
    }
   ],
   "source": [
    "s = 123\n",
    "print('Temos uma %s auxiliar.' %(s))"
   ]
  },
  {
   "cell_type": "code",
   "execution_count": 5,
   "metadata": {},
   "outputs": [
    {
     "name": "stdout",
     "output_type": "stream",
     "text": [
      "Printando pontos flutuantes: 13.14\n"
     ]
    }
   ],
   "source": [
    "print('Printando pontos flutuantes: %1.2f' %(13.144))"
   ]
  },
  {
   "cell_type": "code",
   "execution_count": 6,
   "metadata": {},
   "outputs": [
    {
     "name": "stdout",
     "output_type": "stream",
     "text": [
      "Printando pontos flutuantes: 13.14400\n"
     ]
    }
   ],
   "source": [
    "print('Printando pontos flutuantes: %1.5f' %(13.144))"
   ]
  },
  {
   "cell_type": "code",
   "execution_count": 7,
   "metadata": {},
   "outputs": [
    {
     "name": "stdout",
     "output_type": "stream",
     "text": [
      "Printando pontos flutuantes: 13\n"
     ]
    }
   ],
   "source": [
    "print('Printando pontos flutuantes: %1.0f' %(13.144))"
   ]
  },
  {
   "cell_type": "code",
   "execution_count": 8,
   "metadata": {},
   "outputs": [
    {
     "name": "stdout",
     "output_type": "stream",
     "text": [
      "Printando pontos flutuantes:    13.14400\n"
     ]
    }
   ],
   "source": [
    "print('Printando pontos flutuantes: %11.5f' %(13.144))"
   ]
  },
  {
   "cell_type": "code",
   "execution_count": 10,
   "metadata": {},
   "outputs": [
    {
     "name": "stdout",
     "output_type": "stream",
     "text": [
      "Temos uma 123 auxiliar.\n"
     ]
    }
   ],
   "source": [
    "s = 123\n",
    "print('Temos uma %r auxiliar.' %(s))"
   ]
  },
  {
   "cell_type": "code",
   "execution_count": 12,
   "metadata": {},
   "outputs": [
    {
     "name": "stdout",
     "output_type": "stream",
     "text": [
      "Temos uma string aqui. Temos um inteiro aqui: 1234\n"
     ]
    }
   ],
   "source": [
    "a1 = 'string'\n",
    "a2 = 1234\n",
    "print('Temos uma %s aqui. Temos um inteiro aqui: %r' %(a1, a2))"
   ]
  },
  {
   "cell_type": "code",
   "execution_count": 14,
   "metadata": {},
   "outputs": [],
   "source": [
    "a1 = 'One: {a}, Two: {b}, Three: {c}'.format(a=1,b='two',c=12.3)"
   ]
  },
  {
   "cell_type": "code",
   "execution_count": 15,
   "metadata": {},
   "outputs": [
    {
     "name": "stdout",
     "output_type": "stream",
     "text": [
      "One: 1, Two: two, Three: 12.3\n"
     ]
    }
   ],
   "source": [
    "print(a1)"
   ]
  }
 ],
 "metadata": {
  "kernelspec": {
   "display_name": "Python 3",
   "language": "python",
   "name": "python3"
  },
  "language_info": {
   "codemirror_mode": {
    "name": "ipython",
    "version": 3
   },
   "file_extension": ".py",
   "mimetype": "text/x-python",
   "name": "python",
   "nbconvert_exporter": "python",
   "pygments_lexer": "ipython3",
   "version": "3.7.3"
  }
 },
 "nbformat": 4,
 "nbformat_minor": 2
}
